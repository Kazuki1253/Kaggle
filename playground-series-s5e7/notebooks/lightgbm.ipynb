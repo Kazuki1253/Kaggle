{
 "cells": [
  {
   "cell_type": "markdown",
   "id": "5807d5e9",
   "metadata": {},
   "source": [
    "# LightGBMを使用してみる"
   ]
  },
  {
   "cell_type": "markdown",
   "id": "f8d4ea84",
   "metadata": {},
   "source": [
    "## 参考資料"
   ]
  },
  {
   "cell_type": "markdown",
   "id": "2a8ae3e9",
   "metadata": {},
   "source": [
    "追加予定"
   ]
  },
  {
   "cell_type": "markdown",
   "id": "999afed7",
   "metadata": {},
   "source": [
    "### インストール"
   ]
  },
  {
   "cell_type": "markdown",
   "id": "56d544d9",
   "metadata": {},
   "source": [
    "`brew install lightgbm`は必要ないかもしれない。 <br>\n",
    "公式のgithubに <cite>For macOS users, the OpenMP library is needed. You can install it by the following command: brew install libomp.</cite>と書かれているため、まず`brew install libomp`によって`OpenMP`をインストールした後、lightGBMをインストールする。 <br>\n",
    "OpenMPをインストールしないと`import lightgbm`する時にOpenMPのパスが見つからないとエラーになる。"
   ]
  },
  {
   "cell_type": "code",
   "execution_count": 4,
   "id": "43e1c828",
   "metadata": {},
   "outputs": [
    {
     "name": "stdout",
     "output_type": "stream",
     "text": [
      "\u001b[33mWarning:\u001b[0m lightgbm 4.6.0 is already installed and up-to-date.\n",
      "To reinstall 4.6.0, run:\n",
      "  brew reinstall lightgbm\n",
      "\u001b[33mWarning:\u001b[0m libomp 20.1.8 is already installed and up-to-date.\n",
      "To reinstall 20.1.8, run:\n",
      "  brew reinstall libomp\n",
      "Requirement already satisfied: lightgbm in /Users/kazuki/Documents/Kaggle/.kaggle/lib/python3.13/site-packages (4.6.0)\n",
      "Requirement already satisfied: numpy>=1.17.0 in /Users/kazuki/Documents/Kaggle/.kaggle/lib/python3.13/site-packages (from lightgbm) (2.3.1)\n",
      "Requirement already satisfied: scipy in /Users/kazuki/Documents/Kaggle/.kaggle/lib/python3.13/site-packages (from lightgbm) (1.16.0)\n"
     ]
    }
   ],
   "source": [
    "! brew install lightgbm\n",
    "! brew install libomp\n",
    "! pip install lightgbm"
   ]
  },
  {
   "cell_type": "markdown",
   "id": "0fb3ed0f",
   "metadata": {},
   "source": [
    "### インポート"
   ]
  },
  {
   "cell_type": "code",
   "execution_count": 5,
   "id": "f9a5effa",
   "metadata": {},
   "outputs": [],
   "source": [
    "import numpy as np\n",
    "import pandas as pd\n",
    "import lightgbm as lgb\n",
    "import matplotlib.pyplot as plt\n",
    "import seaborn as sns\n",
    "\n",
    "from sklearn.preprocessing import LabelEncoder\n",
    "from sklearn.metrics import accuracy_score\n",
    "from sklearn.model_selection import train_test_split"
   ]
  },
  {
   "cell_type": "markdown",
   "id": "357c2f53",
   "metadata": {},
   "source": [
    "### データの準備"
   ]
  },
  {
   "cell_type": "code",
   "execution_count": 6,
   "id": "2af10bbb",
   "metadata": {},
   "outputs": [],
   "source": [
    "train = pd.read_csv(\"../data/input/train.csv\")\n",
    "test = pd.read_csv(\"../data/input/test.csv\")\n",
    "submission = pd.read_csv(\"../data/input/sample_submission.csv\")"
   ]
  },
  {
   "cell_type": "markdown",
   "id": "91742c87",
   "metadata": {},
   "source": [
    "`LabelEncoder()`を用いて文字列をアルファベット順に番号づけする。"
   ]
  },
  {
   "cell_type": "code",
   "execution_count": 7,
   "id": "f09b90d5",
   "metadata": {},
   "outputs": [],
   "source": [
    "le_personality = LabelEncoder()\n",
    "le = LabelEncoder()\n",
    "train[\"Personality_encoded\"] = le_personality.fit_transform(train[\"Personality\"])"
   ]
  },
  {
   "cell_type": "markdown",
   "id": "49d3236d",
   "metadata": {},
   "source": [
    "カテゴリカルな特徴量を数値に変換する。"
   ]
  },
  {
   "cell_type": "code",
   "execution_count": 8,
   "id": "1471e350",
   "metadata": {},
   "outputs": [],
   "source": [
    "categorical_cols = train.select_dtypes(exclude=['number']).columns\n",
    "\n",
    "for col in categorical_cols:\n",
    "    train[col] = le.fit_transform(train[col])"
   ]
  },
  {
   "cell_type": "markdown",
   "id": "2d8249fd",
   "metadata": {},
   "source": [
    "`drop`を使用して`id`から`Personality`を除いたデータフレームを作成"
   ]
  },
  {
   "cell_type": "code",
   "execution_count": 9,
   "id": "777d1313",
   "metadata": {},
   "outputs": [],
   "source": [
    "X = train.drop(columns=[\"id\", \"Personality\", \"Personality_encoded\"])\n",
    "y = train[\"Personality_encoded\"]"
   ]
  },
  {
   "cell_type": "code",
   "execution_count": 10,
   "id": "4f7df458",
   "metadata": {},
   "outputs": [],
   "source": [
    "X_train, X_test, y_train, y_test = train_test_split(X, y,test_size=0.2)"
   ]
  },
  {
   "cell_type": "markdown",
   "id": "f9a8cbd9",
   "metadata": {},
   "source": []
  }
 ],
 "metadata": {
  "kernelspec": {
   "display_name": ".kaggle",
   "language": "python",
   "name": "python3"
  },
  "language_info": {
   "codemirror_mode": {
    "name": "ipython",
    "version": 3
   },
   "file_extension": ".py",
   "mimetype": "text/x-python",
   "name": "python",
   "nbconvert_exporter": "python",
   "pygments_lexer": "ipython3",
   "version": "3.13.2"
  }
 },
 "nbformat": 4,
 "nbformat_minor": 5
}
