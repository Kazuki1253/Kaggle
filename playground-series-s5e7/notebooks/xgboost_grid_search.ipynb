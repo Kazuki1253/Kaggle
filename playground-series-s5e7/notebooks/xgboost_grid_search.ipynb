{
 "cells": [
  {
   "cell_type": "markdown",
   "id": "6b51d768",
   "metadata": {},
   "source": [
    "`./xgboost.ipynb`でXGBoostを使用してGridSearchをしたところ、最良のパラメータが\n",
    "``` Python\n",
    "param_grid = {\n",
    "    'max_depth': [3, 4, 5],\n",
    "    'learning_rate': [0.01, 0.1, 0.2],\n",
    "    'n_estimators': [50, 100, 200],\n",
    "}\n",
    "```\n",
    "のうち\n",
    "``` Python\n",
    "Best parameters: {\n",
    "    'learning_rate': 0.01,\n",
    "    'max_depth': 3,\n",
    "    'n_estimators': 200\n",
    "    }\n",
    "```\n",
    "であった。ここからこれら全てにおいて改善の余地があると判断し、これら3パラメータについてより良い値を探しにいく。"
   ]
  },
  {
   "cell_type": "code",
   "execution_count": 27,
   "id": "44572289",
   "metadata": {},
   "outputs": [],
   "source": [
    "import numpy as np\n",
    "import pandas as pd\n",
    "import xgboost as xgb\n",
    "import matplotlib.pyplot as plt\n",
    "import seaborn as sns\n",
    "\n",
    "from sklearn.preprocessing import LabelEncoder\n",
    "from sklearn.metrics import accuracy_score\n",
    "from sklearn.model_selection import train_test_split\n",
    "from sklearn.model_selection import GridSearchCV"
   ]
  },
  {
   "cell_type": "code",
   "execution_count": 28,
   "id": "3911baa2",
   "metadata": {},
   "outputs": [],
   "source": [
    "train = pd.read_csv(\"../data/input/train.csv\")\n",
    "test = pd.read_csv(\"../data/input/test.csv\")\n",
    "submission = pd.read_csv(\"../data/input/sample_submission.csv\")"
   ]
  },
  {
   "cell_type": "code",
   "execution_count": 29,
   "id": "7b2792ae",
   "metadata": {},
   "outputs": [],
   "source": [
    "le_personality = LabelEncoder()\n",
    "le = LabelEncoder()\n",
    "train[\"Personality_encoded\"] = le_personality.fit_transform(train[\"Personality\"])"
   ]
  },
  {
   "cell_type": "code",
   "execution_count": 30,
   "id": "76373929",
   "metadata": {},
   "outputs": [],
   "source": [
    "categorical_cols = train.select_dtypes(exclude=['number']).columns\n",
    "\n",
    "for col in categorical_cols:\n",
    "    train[col] = le.fit_transform(train[col])"
   ]
  },
  {
   "cell_type": "code",
   "execution_count": 31,
   "id": "f9a8acff",
   "metadata": {},
   "outputs": [],
   "source": [
    "X = train.drop(columns=[\"id\", \"Personality\", \"Personality_encoded\"])\n",
    "y = train[\"Personality_encoded\"]"
   ]
  },
  {
   "cell_type": "code",
   "execution_count": 32,
   "id": "26dfb9f7",
   "metadata": {},
   "outputs": [],
   "source": [
    "X_train, X_test, y_train, y_test = train_test_split(X, y,test_size=0.2)"
   ]
  },
  {
   "cell_type": "code",
   "execution_count": 33,
   "id": "8c2535c0",
   "metadata": {},
   "outputs": [],
   "source": [
    "model = xgb.XGBClassifier(\n",
    "    objective='binary:logistic',\n",
    "    eval_metric='error',\n",
    ")"
   ]
  },
  {
   "cell_type": "code",
   "execution_count": 34,
   "id": "6f8f8cd8",
   "metadata": {},
   "outputs": [
    {
     "name": "stdout",
     "output_type": "stream",
     "text": [
      "Best parameters: {'learning_rate': 0.05, 'max_depth': 3, 'n_estimators': 300}\n",
      "Best cross-validation score: 0.9688\n"
     ]
    }
   ],
   "source": [
    "param_grid = {\n",
    "    'max_depth': [1, 2, 3, 4],\n",
    "    'learning_rate': [0.001, 0.005, 0.01, 0.05],\n",
    "    'n_estimators': [100, 200, 300, 400],\n",
    "}\n",
    "grid_search = GridSearchCV(model, param_grid)\n",
    "grid_search.fit(X_train, y_train, eval_set=[(X_train, y_train), (X_test, y_test)], verbose=False)\n",
    "print(f'Best parameters: {grid_search.best_params_}')\n",
    "print(f'Best cross-validation score: {grid_search.best_score_:.4f}')"
   ]
  },
  {
   "cell_type": "code",
   "execution_count": 35,
   "id": "ede79ab0",
   "metadata": {},
   "outputs": [],
   "source": [
    "best_model = grid_search.best_estimator_"
   ]
  },
  {
   "cell_type": "code",
   "execution_count": 36,
   "id": "ff278858",
   "metadata": {},
   "outputs": [
    {
     "name": "stdout",
     "output_type": "stream",
     "text": [
      "Test accuracy: 0.9714\n"
     ]
    }
   ],
   "source": [
    "y_pred = best_model.predict(X_test)\n",
    "accuracy = accuracy_score(y_test, y_pred)\n",
    "print(f'Test accuracy: {accuracy:.4f}')"
   ]
  },
  {
   "cell_type": "code",
   "execution_count": 37,
   "id": "5b4d7435",
   "metadata": {},
   "outputs": [
    {
     "data": {
      "image/png": "[encoded data removed]",
      "text/plain": [
       "<Figure size 640x480 with 1 Axes>"
      ]
     },
     "metadata": {},
     "output_type": "display_data"
    }
   ],
   "source": [
    "results = best_model.evals_result()\n",
    "epochs = len(results['validation_0']['error'])\n",
    "x_axis = range(0, epochs)\n",
    "\n",
    "fig, ax = plt.subplots()\n",
    "ax.plot(x_axis, results['validation_0']['error'], label='Train')\n",
    "ax.plot(x_axis, results['validation_1']['error'], label='Test')\n",
    "ax.legend()\n",
    "plt.ylabel('Error')\n",
    "plt.title('XGBoost Error')\n",
    "plt.show()"
   ]
  },
  {
   "cell_type": "code",
   "execution_count": 38,
   "id": "0fd250f4",
   "metadata": {},
   "outputs": [
    {
     "data": {
      "text/html": [
       "<div>\n",
       "<style scoped>\n",
       "    .dataframe tbody tr th:only-of-type {\n",
       "        vertical-align: middle;\n",
       "    }\n",
       "\n",
       "    .dataframe tbody tr th {\n",
       "        vertical-align: top;\n",
       "    }\n",
       "\n",
       "    .dataframe thead th {\n",
       "        text-align: right;\n",
       "    }\n",
       "</style>\n",
       "<table border=\"1\" class=\"dataframe\">\n",
       "  <thead>\n",
       "    <tr style=\"text-align: right;\">\n",
       "      <th></th>\n",
       "      <th>id</th>\n",
       "      <th>Personality</th>\n",
       "    </tr>\n",
       "  </thead>\n",
       "  <tbody>\n",
       "    <tr>\n",
       "      <th>0</th>\n",
       "      <td>18524</td>\n",
       "      <td>Extrovert</td>\n",
       "    </tr>\n",
       "    <tr>\n",
       "      <th>1</th>\n",
       "      <td>18525</td>\n",
       "      <td>Introvert</td>\n",
       "    </tr>\n",
       "    <tr>\n",
       "      <th>2</th>\n",
       "      <td>18526</td>\n",
       "      <td>Extrovert</td>\n",
       "    </tr>\n",
       "    <tr>\n",
       "      <th>3</th>\n",
       "      <td>18527</td>\n",
       "      <td>Extrovert</td>\n",
       "    </tr>\n",
       "    <tr>\n",
       "      <th>4</th>\n",
       "      <td>18528</td>\n",
       "      <td>Introvert</td>\n",
       "    </tr>\n",
       "  </tbody>\n",
       "</table>\n",
       "</div>"
      ],
      "text/plain": [
       "      id Personality\n",
       "0  18524   Extrovert\n",
       "1  18525   Introvert\n",
       "2  18526   Extrovert\n",
       "3  18527   Extrovert\n",
       "4  18528   Introvert"
      ]
     },
     "execution_count": 38,
     "metadata": {},
     "output_type": "execute_result"
    }
   ],
   "source": [
    "categorical_cols = test.select_dtypes(exclude=['number']).columns\n",
    "\n",
    "for col in categorical_cols:\n",
    "    test[col] = le.fit_transform(test[col])\n",
    "\n",
    "test_predictions = best_model.predict(test.drop(columns=[\"id\"]))\n",
    "final_predictions = np.array(test_predictions).astype(int)\n",
    "\n",
    "submission[\"Personality\"] = le_personality.inverse_transform(final_predictions)\n",
    "submission.head()"
   ]
  },
  {
   "cell_type": "code",
   "execution_count": 39,
   "id": "3819f560",
   "metadata": {},
   "outputs": [
    {
     "name": "stdout",
     "output_type": "stream",
     "text": [
      "Submission saved to ../data/output/submission_xgboost_gridsearch.csv\n"
     ]
    }
   ],
   "source": [
    "submission.to_csv(\"../data/output/submission_xgboost_gridsearch.csv\", index=False)\n",
    "print(\"Submission saved to ../data/output/submission_xgboost_gridsearch.csv\")"
   ]
  },
  {
   "cell_type": "code",
   "execution_count": 40,
   "id": "c8ca7763",
   "metadata": {},
   "outputs": [
    {
     "name": "stdout",
     "output_type": "stream",
     "text": [
      "100%|██████████████████████████████████████| 96.5k/96.5k [00:01<00:00, 98.6kB/s]\n",
      "Successfully submitted to Predict the Introverts from the Extroverts"
     ]
    }
   ],
   "source": [
    "!kaggle competitions submit -c playground-series-s5e7 -f ../data/output/submission_xgboost_gridsearch.csv -m \"XGBoost with Grid Search\""
   ]
  }
 ],
 "metadata": {
  "kernelspec": {
   "display_name": ".kaggle",
   "language": "python",
   "name": "python3"
  },
  "language_info": {
   "codemirror_mode": {
    "name": "ipython",
    "version": 3
   },
   "file_extension": ".py",
   "mimetype": "text/x-python",
   "name": "python",
   "nbconvert_exporter": "python",
   "pygments_lexer": "ipython3",
   "version": "3.13.2"
  }
 },
 "nbformat": 4,
 "nbformat_minor": 5
}
